{
  "nbformat": 4,
  "nbformat_minor": 0,
  "metadata": {
    "colab": {
      "provenance": [],
      "authorship_tag": "ABX9TyNIoJqR5vXOs+TKakngO+0N",
      "include_colab_link": true
    },
    "kernelspec": {
      "name": "python3",
      "display_name": "Python 3"
    },
    "language_info": {
      "name": "python"
    }
  },
  "cells": [
    {
      "cell_type": "markdown",
      "metadata": {
        "id": "view-in-github",
        "colab_type": "text"
      },
      "source": [
        "<a href=\"https://colab.research.google.com/github/Karthi29M11/Karthi29M11/blob/main/FASHION_DESIGN.ipynb\" target=\"_parent\"><img src=\"https://colab.research.google.com/assets/colab-badge.svg\" alt=\"Open In Colab\"/></a>"
      ]
    },
    {
      "cell_type": "code",
      "execution_count": null,
      "metadata": {
        "id": "V5NYY6GLOdDp"
      },
      "outputs": [],
      "source": [
        "plt.figure(figsize=(15, 5))  # figure size\n",
        "i = 0\n",
        "while i < 20:\n",
        "    plt.subplot(2, 10, i+1)\n",
        "\n",
        "    # showing each image with colourmap as binary\n",
        "    plt.imshow(x_train[i], cmap=plt.cm.binary)\n",
        "\n",
        "    # giving class labels\n",
        "    plt.xlabel(label_class_names[y_train[i]])\n",
        "    i = i+1\n",
        "\n",
        "plt.show()  # plotting the final output figure"
      ]
    }
  ]
}